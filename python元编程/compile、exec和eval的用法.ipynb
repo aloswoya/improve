{
 "cells": [
  {
   "cell_type": "markdown",
   "metadata": {},
   "source": [
    "### compile\n",
    "```compile(source, filename, mode[, flags[, dont_inherit]])```\n",
    "- source    : 字符串或者AST（Abstract Syntax Trees）对象。\n",
    "- filename  : 代码文件名称，如果不是从文件读取代码则传递一些可辨认的值。todo:有什么用？难道只是为了标识而已？是否在什么地方文件名有作用？\n",
    "- mode      : 指定编译代码的种类。可以指定为 **exec, eval, single**\n",
    "- flags     : 变量作用域，局部命名空间，如果被提供，可以是任何映射对象。。\n",
    "- flags和dont_inherit是用来控制编译源码时的标志\n",
    "\n",
    "> 参数mode是用来指明那种表示的源码类型；如果是exec类型，表示这是一个序列语句，可以进行运行；如果是eval类型，表示这是一个单一的表达式语句，可以用来计算相应的值出来；如果是single类型，表示这是一个单一语句，采用交互模式执行，在这种情况下，如果是一个表达式，一般会输出结果，而不是打印为None输出。\n",
    "   "
   ]
  },
  {
   "cell_type": "code",
   "execution_count": 1,
   "metadata": {},
   "outputs": [
    {
     "name": "stdout",
     "output_type": "stream",
     "text": [
      "<code object <module> at 0000000003FE9830, file \"\", line 1>\n",
      "0\n",
      "1\n",
      "2\n",
      "3\n",
      "4\n",
      "5\n"
     ]
    }
   ],
   "source": [
    "txt = \"for i in range(0,6): print(i)\" \n",
    "c = compile(txt,'','exec')   # 编译为字节代码对象 \n",
    "print c\n",
    "exec(c)"
   ]
  },
  {
   "cell_type": "code",
   "execution_count": 2,
   "metadata": {},
   "outputs": [
    {
     "name": "stdout",
     "output_type": "stream",
     "text": [
      "0\n",
      "1\n",
      "2\n",
      "3\n",
      "4\n",
      "5\n"
     ]
    }
   ],
   "source": [
    "eval(c)"
   ]
  },
  {
   "cell_type": "code",
   "execution_count": 3,
   "metadata": {},
   "outputs": [
    {
     "data": {
      "text/plain": [
       "17"
      ]
     },
     "execution_count": 3,
     "metadata": {},
     "output_type": "execute_result"
    }
   ],
   "source": [
    "txt = \"3 * 4 + 5\"\n",
    "e = compile(txt,'','eval')\n",
    "eval(e)"
   ]
  },
  {
   "cell_type": "code",
   "execution_count": 4,
   "metadata": {},
   "outputs": [],
   "source": [
    "exec(e)"
   ]
  },
  {
   "cell_type": "markdown",
   "metadata": {},
   "source": [
    "指定flags为1024时编译为抽象语法树AST"
   ]
  },
  {
   "cell_type": "code",
   "execution_count": 5,
   "metadata": {},
   "outputs": [
    {
     "data": {
      "text/plain": [
       "<_ast.Module at 0x4114128>"
      ]
     },
     "execution_count": 5,
     "metadata": {},
     "output_type": "execute_result"
    }
   ],
   "source": [
    "PyCF_ONLY_AST = 1024\n",
    "txt = \"for i in range(0,6): print(i)\" \n",
    "str_node = compile(txt,'','exec', PyCF_ONLY_AST)\n",
    "str_node"
   ]
  },
  {
   "cell_type": "code",
   "execution_count": 7,
   "metadata": {},
   "outputs": [
    {
     "name": "stdout",
     "output_type": "stream",
     "text": [
      "Module(\n",
      "    body=[\n",
      "        Import(\n",
      "            lineno=1,\n",
      "            col_offset=0,\n",
      "            names=[alias(name='logging', asname=None)],\n",
      "        ),\n",
      "        Import(\n",
      "            lineno=2,\n",
      "            col_offset=0,\n",
      "            names=[alias(name='datetime', asname=None)],\n",
      "        ),\n",
      "        ImportFrom(\n",
      "            lineno=3,\n",
      "            col_offset=0,\n",
      "            module='com.touna.db',\n",
      "            names=[alias(name='db_connection', asname=None)],\n",
      "            level=0,\n",
      "        ),\n",
      "        ImportFrom(\n",
      "            lineno=4,\n",
      "            col_offset=0,\n",
      "            module='com.touna.common.db_common',\n",
      "            names=[alias(name='*', asname=None)],\n",
      "            level=0,\n",
      "        ),\n",
      "        ImportFrom(\n",
      "            lineno=5,\n",
      "            col_offset=0,\n",
      "            module='com.touna.util.exec_script',\n",
      "            names=[alias(name='*', asname=None)],\n",
      "            level=0,\n",
      "        ),\n",
      "        ImportFrom(\n",
      "            lineno=6,\n",
      "            col_offset=0,\n",
      "            module='com.touna.util.http_utils',\n",
      "            names=[alias(name='*', asname=None)],\n",
      "            level=0,\n",
      "        ),\n",
      "    ],\n",
      ")\n"
     ]
    }
   ],
   "source": [
    "import astpretty\n",
    "with open(\"fortest.py\", \"r\") as f:\n",
    "    content = f.read()\n",
    "    node = compile(content, \"fortest.py\", \"exec\", 1024)\n",
    "    astpretty.pprint(node)"
   ]
  },
  {
   "cell_type": "markdown",
   "metadata": {},
   "source": [
    "### eval\n",
    "```eval(expression, globals=None, locals=None)```\n",
    "- expression 只能是单个表达式，不支持复杂的代码逻辑，例如赋值操作、循环语句等等\n",
    "- globals 用于指定运行时的全局命名空间，类型是字典，缺省时使用的是当前模块的内置命名空间。locals 指定运行时的局部命名空间，类型是字典，缺省时使用 globals 的值。两者都缺省时，则遵循 eval 函数执行时的作用域。值得注意的是，这两者不代表真正的命名空间，只在运算时起作用，运算后则销毁。"
   ]
  },
  {
   "cell_type": "code",
   "execution_count": 6,
   "metadata": {},
   "outputs": [
    {
     "name": "stdout",
     "output_type": "stream",
     "text": [
      "('a: ', 30)\n",
      "x: 10 y: 20\n",
      "('b: ', 3)\n",
      "x: 10 y: 20\n",
      "('c: ', 4)\n"
     ]
    }
   ],
   "source": [
    "x = 10\n",
    "def func():\n",
    "    y = 20\n",
    "    a = eval('x + y') # 没有指定命名空间，使用真实作用域，级用x=10\n",
    "    print('a: ', a) # 这里结果是30\n",
    "    b = eval('x + y', {'x': 1, 'y': 2}) # 指定了全局作用域，locals为None，默认为globals，所以y=2\n",
    "    print('x: ' + str(x) + ' y: ' + str(y))\n",
    "    print('b: ', b) # 这里结果为3\n",
    "    c = eval('x + y', {'x': 1, 'y': 2}, {'y': 3, 'z': 4})\n",
    "    print('x: ' + str(x) + ' y: ' + str(y))\n",
    "    print('c: ', c)\n",
    "\n",
    "func()"
   ]
  },
  {
   "cell_type": "markdown",
   "metadata": {},
   "source": [
    "可见：\n",
    "- 当指定了命名空间的时候，变量会在对应命名空间中查找。而且，它们的值不会覆盖实际命名空间中的值\n",
    "- 当指定了命名空间space，但是所需的变量没有在space中定义，那么会报错，如下："
   ]
  },
  {
   "cell_type": "code",
   "execution_count": 15,
   "metadata": {},
   "outputs": [
    {
     "ename": "NameError",
     "evalue": "name 'y' is not defined",
     "output_type": "error",
     "traceback": [
      "\u001b[1;31m---------------------------------------------------------------------------\u001b[0m",
      "\u001b[1;31mNameError\u001b[0m                                 Traceback (most recent call last)",
      "\u001b[1;32m<ipython-input-15-cd66eed08e08>\u001b[0m in \u001b[0;36m<module>\u001b[1;34m()\u001b[0m\n\u001b[0;32m      6\u001b[0m     \u001b[0mresult\u001b[0m \u001b[1;33m=\u001b[0m \u001b[0meval\u001b[0m\u001b[1;33m(\u001b[0m\u001b[1;34m\"x + y \"\u001b[0m\u001b[1;33m,\u001b[0m \u001b[0mNone\u001b[0m\u001b[1;33m,\u001b[0m \u001b[0ml\u001b[0m\u001b[1;33m)\u001b[0m\u001b[1;33m\u001b[0m\u001b[0m\n\u001b[0;32m      7\u001b[0m     \u001b[1;32mprint\u001b[0m\u001b[1;33m(\u001b[0m\u001b[1;34m\"result:\"\u001b[0m\u001b[1;33m,\u001b[0m \u001b[0mresult\u001b[0m\u001b[1;33m)\u001b[0m\u001b[1;33m\u001b[0m\u001b[0m\n\u001b[1;32m----> 8\u001b[1;33m \u001b[0mfunc\u001b[0m\u001b[1;33m(\u001b[0m\u001b[1;33m)\u001b[0m\u001b[1;33m\u001b[0m\u001b[0m\n\u001b[0m",
      "\u001b[1;32m<ipython-input-15-cd66eed08e08>\u001b[0m in \u001b[0;36mfunc\u001b[1;34m()\u001b[0m\n\u001b[0;32m      4\u001b[0m \u001b[1;32mdef\u001b[0m \u001b[0mfunc\u001b[0m\u001b[1;33m(\u001b[0m\u001b[1;33m)\u001b[0m\u001b[1;33m:\u001b[0m\u001b[1;33m\u001b[0m\u001b[0m\n\u001b[0;32m      5\u001b[0m     \u001b[0my\u001b[0m \u001b[1;33m=\u001b[0m \u001b[1;36m20\u001b[0m\u001b[1;33m\u001b[0m\u001b[0m\n\u001b[1;32m----> 6\u001b[1;33m     \u001b[0mresult\u001b[0m \u001b[1;33m=\u001b[0m \u001b[0meval\u001b[0m\u001b[1;33m(\u001b[0m\u001b[1;34m\"x + y \"\u001b[0m\u001b[1;33m,\u001b[0m \u001b[0mNone\u001b[0m\u001b[1;33m,\u001b[0m \u001b[0ml\u001b[0m\u001b[1;33m)\u001b[0m\u001b[1;33m\u001b[0m\u001b[0m\n\u001b[0m\u001b[0;32m      7\u001b[0m     \u001b[1;32mprint\u001b[0m\u001b[1;33m(\u001b[0m\u001b[1;34m\"result:\"\u001b[0m\u001b[1;33m,\u001b[0m \u001b[0mresult\u001b[0m\u001b[1;33m)\u001b[0m\u001b[1;33m\u001b[0m\u001b[0m\n\u001b[0;32m      8\u001b[0m \u001b[0mfunc\u001b[0m\u001b[1;33m(\u001b[0m\u001b[1;33m)\u001b[0m\u001b[1;33m\u001b[0m\u001b[0m\n",
      "\u001b[1;32m<string>\u001b[0m in \u001b[0;36m<module>\u001b[1;34m()\u001b[0m\n",
      "\u001b[1;31mNameError\u001b[0m: name 'y' is not defined"
     ]
    }
   ],
   "source": [
    "g = {\"x\":6}\n",
    "l = {}\n",
    "x = 10\n",
    "def func():\n",
    "    y = 20\n",
    "    result = eval(\"x + y \", g, l)\n",
    "    print(\"result:\", result)\n",
    "func()"
   ]
  },
  {
   "cell_type": "markdown",
   "metadata": {},
   "source": [
    "### exec\n",
    "```exec(object[, globals[, locals]])```\n",
    "- exec() 的第一个参数不是表达式，而是代码块，这意味着两点：\n",
    "    - 一是它不能做表达式求值并返回出去\n",
    "    - 二是它可以执行复杂的代码逻辑，相对而言功能更加强大\n",
    "    - 例如，当代码块中赋值了新的变量时，该变量可能 在函数外的命名空间中存活下来。\n",
    "    - 所执行的语句中，如果包含 return 或 yield ，它们产生的值也无法在 exec 函数的外部起作用。\n",
    "- globals, locals的作用同eval，起到的是白名单的作用，通过限定命名空间的范围，防止作用域内的数据被滥用"
   ]
  },
  {
   "cell_type": "code",
   "execution_count": 20,
   "metadata": {},
   "outputs": [
    {
     "name": "stdout",
     "output_type": "stream",
     "text": [
      "4\n"
     ]
    }
   ],
   "source": [
    "x = 1\n",
    "exec(\"x = 2 + 2\")\n",
    "print(x)"
   ]
  },
  {
   "cell_type": "code",
   "execution_count": 27,
   "metadata": {},
   "outputs": [
    {
     "name": "stdout",
     "output_type": "stream",
     "text": [
      "11 21\n"
     ]
    },
    {
     "ename": "NameError",
     "evalue": "name 'x' is not defined",
     "output_type": "error",
     "traceback": [
      "\u001b[1;31m---------------------------------------------------------------------------\u001b[0m",
      "\u001b[1;31mNameError\u001b[0m                                 Traceback (most recent call last)",
      "\u001b[1;32m<ipython-input-27-bb9f9ec3b3fb>\u001b[0m in \u001b[0;36m<module>\u001b[1;34m()\u001b[0m\n\u001b[0;32m      8\u001b[0m     \u001b[1;32mexec\u001b[0m\u001b[1;33m(\u001b[0m\u001b[1;34m\"x,y=x+1,y+1\"\u001b[0m\u001b[1;33m,\u001b[0m \u001b[0mg\u001b[0m\u001b[1;33m,\u001b[0m \u001b[0ml\u001b[0m\u001b[1;33m)\u001b[0m \u001b[1;31m# 这个地方一旦赋值了，那么就\u001b[0m\u001b[1;33m\u001b[0m\u001b[0m\n\u001b[0;32m      9\u001b[0m     \u001b[1;32mprint\u001b[0m \u001b[0mx\u001b[0m\u001b[1;33m,\u001b[0m\u001b[0my\u001b[0m\u001b[1;33m\u001b[0m\u001b[0m\n\u001b[1;32m---> 10\u001b[1;33m \u001b[0mfunc\u001b[0m\u001b[1;33m(\u001b[0m\u001b[1;33m)\u001b[0m\u001b[1;33m\u001b[0m\u001b[0m\n\u001b[0m",
      "\u001b[1;32m<ipython-input-27-bb9f9ec3b3fb>\u001b[0m in \u001b[0;36mfunc\u001b[1;34m()\u001b[0m\n\u001b[0;32m      6\u001b[0m     \u001b[1;32mexec\u001b[0m\u001b[1;33m(\u001b[0m\u001b[1;34m\"x,y=x+1,y+1\"\u001b[0m\u001b[1;33m)\u001b[0m\u001b[1;33m\u001b[0m\u001b[0m\n\u001b[0;32m      7\u001b[0m     \u001b[1;32mprint\u001b[0m \u001b[0mx\u001b[0m\u001b[1;33m,\u001b[0m\u001b[0my\u001b[0m\u001b[1;33m\u001b[0m\u001b[0m\n\u001b[1;32m----> 8\u001b[1;33m     \u001b[1;32mexec\u001b[0m\u001b[1;33m(\u001b[0m\u001b[1;34m\"x,y=x+1,y+1\"\u001b[0m\u001b[1;33m,\u001b[0m \u001b[0mg\u001b[0m\u001b[1;33m,\u001b[0m \u001b[0ml\u001b[0m\u001b[1;33m)\u001b[0m \u001b[1;31m# 这个地方一旦赋值了，那么就\u001b[0m\u001b[1;33m\u001b[0m\u001b[0m\n\u001b[0m\u001b[0;32m      9\u001b[0m     \u001b[1;32mprint\u001b[0m \u001b[0mx\u001b[0m\u001b[1;33m,\u001b[0m\u001b[0my\u001b[0m\u001b[1;33m\u001b[0m\u001b[0m\n\u001b[0;32m     10\u001b[0m \u001b[0mfunc\u001b[0m\u001b[1;33m(\u001b[0m\u001b[1;33m)\u001b[0m\u001b[1;33m\u001b[0m\u001b[0m\n",
      "\u001b[1;32m<string>\u001b[0m in \u001b[0;36m<module>\u001b[1;34m()\u001b[0m\n",
      "\u001b[1;31mNameError\u001b[0m: name 'x' is not defined"
     ]
    }
   ],
   "source": [
    "g = {}\n",
    "l = {}\n",
    "x = 10\n",
    "def func():\n",
    "    y = 20\n",
    "    exec(\"x,y=x+1,y+1\")\n",
    "    print x,y\n",
    "    exec(\"x,y=x+1,y+1\", g, l) # 这个地方一旦赋值了，那么就以g/l为准了\n",
    "    print x,y\n",
    "func()"
   ]
  },
  {
   "cell_type": "code",
   "execution_count": null,
   "metadata": {},
   "outputs": [],
   "source": []
  },
  {
   "cell_type": "markdown",
   "metadata": {},
   "source": [
    "【参考资料】\n",
    "\n",
    "1. [深度辨析 Python 的 eval() 与 exec()](https://juejin.im/post/5c97885b6fb9a070c11f929e)\n",
    "2. [eval、exec、globals、locals用法](https://www.cnblogs.com/yyds/p/6276746.html)\n",
    "3. [在Python中eval,exec和compile有什么区别？](https://codeday.me/bug/20170310/4841.html)"
   ]
  },
  {
   "cell_type": "code",
   "execution_count": 41,
   "metadata": {},
   "outputs": [],
   "source": [
    "g = {}\n",
    "l = {}\n",
    "x = 66\n",
    "exec(compile(\"x=0\\nx=x+1\",\"\",\"exec\"), g, l)"
   ]
  },
  {
   "cell_type": "code",
   "execution_count": 42,
   "metadata": {},
   "outputs": [
    {
     "data": {
      "text/plain": [
       "['__builtins__']"
      ]
     },
     "execution_count": 42,
     "metadata": {},
     "output_type": "execute_result"
    }
   ],
   "source": [
    "g.keys()"
   ]
  },
  {
   "cell_type": "code",
   "execution_count": 43,
   "metadata": {},
   "outputs": [
    {
     "data": {
      "text/plain": [
       "{'x': 1}"
      ]
     },
     "execution_count": 43,
     "metadata": {},
     "output_type": "execute_result"
    }
   ],
   "source": [
    "l"
   ]
  },
  {
   "cell_type": "code",
   "execution_count": 44,
   "metadata": {},
   "outputs": [
    {
     "data": {
      "text/plain": [
       "66"
      ]
     },
     "execution_count": 44,
     "metadata": {},
     "output_type": "execute_result"
    }
   ],
   "source": [
    "x"
   ]
  },
  {
   "cell_type": "code",
   "execution_count": 48,
   "metadata": {},
   "outputs": [],
   "source": [
    "g = {}\n",
    "l = {\"y\":66}\n",
    "exec(\"x=2\\nx=x+1\", g, l)"
   ]
  },
  {
   "cell_type": "code",
   "execution_count": 49,
   "metadata": {},
   "outputs": [
    {
     "data": {
      "text/plain": [
       "['__builtins__']"
      ]
     },
     "execution_count": 49,
     "metadata": {},
     "output_type": "execute_result"
    }
   ],
   "source": [
    "g.keys()"
   ]
  },
  {
   "cell_type": "code",
   "execution_count": 50,
   "metadata": {},
   "outputs": [
    {
     "data": {
      "text/plain": [
       "{'x': 3, 'y': 66}"
      ]
     },
     "execution_count": 50,
     "metadata": {},
     "output_type": "execute_result"
    }
   ],
   "source": [
    "l"
   ]
  },
  {
   "cell_type": "markdown",
   "metadata": {},
   "source": [
    "可以看出，传入的g/l在exec之后，其实得到的g/l是其原来的对象与exec时的对象的合集"
   ]
  },
  {
   "cell_type": "code",
   "execution_count": null,
   "metadata": {},
   "outputs": [],
   "source": []
  }
 ],
 "metadata": {
  "kernelspec": {
   "display_name": "Python 2",
   "language": "python",
   "name": "python2"
  },
  "language_info": {
   "codemirror_mode": {
    "name": "ipython",
    "version": 2
   },
   "file_extension": ".py",
   "mimetype": "text/x-python",
   "name": "python",
   "nbconvert_exporter": "python",
   "pygments_lexer": "ipython2",
   "version": "2.7.14"
  }
 },
 "nbformat": 4,
 "nbformat_minor": 2
}
