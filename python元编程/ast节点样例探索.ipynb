{
 "cells": [
  {
   "cell_type": "code",
   "execution_count": 2,
   "metadata": {},
   "outputs": [],
   "source": [
    "import ast\n",
    "import astpretty\n"
   ]
  },
  {
   "cell_type": "markdown",
   "metadata": {},
   "source": [
    "#### 表达式 Expr\n",
    "只有value一个属性"
   ]
  },
  {
   "cell_type": "code",
   "execution_count": 3,
   "metadata": {},
   "outputs": [
    {
     "name": "stdout",
     "output_type": "stream",
     "text": [
      "Module(\n",
      "    body=[\n",
      "        Expr(\n",
      "            lineno=1,\n",
      "            col_offset=0,\n",
      "            value=Name(lineno=1, col_offset=0, id='x', ctx=Load()),\n",
      "        ),\n",
      "    ],\n",
      ")\n"
     ]
    }
   ],
   "source": [
    "astpretty.pprint(ast.parse(\"x\"))"
   ]
  },
  {
   "cell_type": "markdown",
   "metadata": {},
   "source": [
    "#### 赋值语句 Assign\n",
    "两个属性：\n",
    "- targets。被赋值的对象\n",
    "    - \n",
    "- value。赋值的对象，在AST中有多种节点\n",
    "    - Num/Str/List/Dict等"
   ]
  },
  {
   "cell_type": "code",
   "execution_count": 13,
   "metadata": {},
   "outputs": [
    {
     "name": "stdout",
     "output_type": "stream",
     "text": [
      "Assign(\n",
      "    lineno=1,\n",
      "    col_offset=0,\n",
      "    targets=[Name(lineno=1, col_offset=0, id='x', ctx=Store())],\n",
      "    value=Num(lineno=1, col_offset=2, n=666),\n",
      ")\n"
     ]
    }
   ],
   "source": [
    "astpretty.pprint(ast.parse(\"x=666\").body[0])"
   ]
  },
  {
   "cell_type": "code",
   "execution_count": 14,
   "metadata": {},
   "outputs": [
    {
     "name": "stdout",
     "output_type": "stream",
     "text": [
      "Module(\n",
      "    body=[\n",
      "        Assign(\n",
      "            lineno=1,\n",
      "            col_offset=0,\n",
      "            targets=[Name(lineno=1, col_offset=0, id='x', ctx=Store())],\n",
      "            value=Name(lineno=1, col_offset=2, id='y', ctx=Load()),\n",
      "        ),\n",
      "    ],\n",
      ")\n"
     ]
    }
   ],
   "source": [
    "astpretty.pprint(ast.parse(\"x=y\"))"
   ]
  },
  {
   "cell_type": "code",
   "execution_count": 5,
   "metadata": {},
   "outputs": [
    {
     "name": "stdout",
     "output_type": "stream",
     "text": [
      "Module(\n",
      "    body=[\n",
      "        Assign(\n",
      "            lineno=1,\n",
      "            col_offset=0,\n",
      "            targets=[\n",
      "                Tuple(\n",
      "                    lineno=1,\n",
      "                    col_offset=0,\n",
      "                    elts=[\n",
      "                        Name(lineno=1, col_offset=0, id='x', ctx=Store()),\n",
      "                        Name(lineno=1, col_offset=2, id='y', ctx=Store()),\n",
      "                    ],\n",
      "                    ctx=Store(),\n",
      "                ),\n",
      "            ],\n",
      "            value=Tuple(\n",
      "                lineno=1,\n",
      "                col_offset=4,\n",
      "                elts=[\n",
      "                    Num(lineno=1, col_offset=4, n=66),\n",
      "                    Str(lineno=1, col_offset=7, s='fancy'),\n",
      "                ],\n",
      "                ctx=Load(),\n",
      "            ),\n",
      "        ),\n",
      "    ],\n",
      ")\n"
     ]
    }
   ],
   "source": [
    "astpretty.pprint(ast.parse(\"x,y=66,'fancy'\"))"
   ]
  },
  {
   "cell_type": "code",
   "execution_count": null,
   "metadata": {},
   "outputs": [],
   "source": []
  }
 ],
 "metadata": {
  "kernelspec": {
   "display_name": "Python 2",
   "language": "python",
   "name": "python2"
  },
  "language_info": {
   "codemirror_mode": {
    "name": "ipython",
    "version": 2
   },
   "file_extension": ".py",
   "mimetype": "text/x-python",
   "name": "python",
   "nbconvert_exporter": "python",
   "pygments_lexer": "ipython2",
   "version": "2.7.14"
  }
 },
 "nbformat": 4,
 "nbformat_minor": 2
}
