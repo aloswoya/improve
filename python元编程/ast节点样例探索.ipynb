{
 "cells": [
  {
   "cell_type": "code",
   "execution_count": 36,
   "metadata": {},
   "outputs": [],
   "source": [
    "import ast\n",
    "import astpretty\n",
    "def astshow(some):\n",
    "    astpretty.pprint(ast.parse(some).body[0])\n",
    "def astshowall(some):\n",
    "    astpretty.pprint(ast.parse(some))"
   ]
  },
  {
   "cell_type": "markdown",
   "metadata": {},
   "source": [
    "#### 表达式 Expr\n",
    "只有value一个属性"
   ]
  },
  {
   "cell_type": "code",
   "execution_count": 3,
   "metadata": {},
   "outputs": [
    {
     "name": "stdout",
     "output_type": "stream",
     "text": [
      "Module(\n",
      "    body=[\n",
      "        Expr(\n",
      "            lineno=1,\n",
      "            col_offset=0,\n",
      "            value=Name(lineno=1, col_offset=0, id='x', ctx=Load()),\n",
      "        ),\n",
      "    ],\n",
      ")\n"
     ]
    }
   ],
   "source": [
    "astpretty.pprint(ast.parse(\"x\"))"
   ]
  },
  {
   "cell_type": "markdown",
   "metadata": {},
   "source": [
    "#### 变量Name\n",
    "- id：变量名\n",
    "- ctx：类型，有加载Load、存储Store、删除Del等多个类型"
   ]
  },
  {
   "cell_type": "markdown",
   "metadata": {},
   "source": [
    "#### 赋值语句 Assign\n",
    "两个属性：\n",
    "- targets。被赋值的对象\n",
    "    - 是一个列表，可以多重赋值。比如a=b=c=6\n",
    "- value。赋值的对象，在AST中有多种节点\n",
    "    - Num/Str/List/Dict等"
   ]
  },
  {
   "cell_type": "code",
   "execution_count": 13,
   "metadata": {},
   "outputs": [
    {
     "name": "stdout",
     "output_type": "stream",
     "text": [
      "Assign(\n",
      "    lineno=1,\n",
      "    col_offset=0,\n",
      "    targets=[Name(lineno=1, col_offset=0, id='x', ctx=Store())],\n",
      "    value=Num(lineno=1, col_offset=2, n=666),\n",
      ")\n"
     ]
    }
   ],
   "source": [
    "astpretty.pprint(ast.parse(\"x=666\").body[0])"
   ]
  },
  {
   "cell_type": "code",
   "execution_count": 19,
   "metadata": {},
   "outputs": [
    {
     "name": "stdout",
     "output_type": "stream",
     "text": [
      "Module(\n",
      "    body=[\n",
      "        Assign(\n",
      "            lineno=1,\n",
      "            col_offset=0,\n",
      "            targets=[\n",
      "                Name(lineno=1, col_offset=0, id='x', ctx=Store()),\n",
      "                Name(lineno=1, col_offset=2, id='y', ctx=Store()),\n",
      "                Name(lineno=1, col_offset=4, id='z', ctx=Store()),\n",
      "            ],\n",
      "            value=Num(lineno=1, col_offset=6, n=6),\n",
      "        ),\n",
      "    ],\n",
      ")\n"
     ]
    }
   ],
   "source": [
    "astpretty.pprint(ast.parse(\"x=y=z=6\"))"
   ]
  },
  {
   "cell_type": "code",
   "execution_count": 16,
   "metadata": {},
   "outputs": [
    {
     "name": "stdout",
     "output_type": "stream",
     "text": [
      "Assign(\n",
      "    lineno=1,\n",
      "    col_offset=0,\n",
      "    targets=[\n",
      "        Tuple(\n",
      "            lineno=1,\n",
      "            col_offset=0,\n",
      "            elts=[\n",
      "                Name(lineno=1, col_offset=0, id='x', ctx=Store()),\n",
      "                Name(lineno=1, col_offset=2, id='y', ctx=Store()),\n",
      "            ],\n",
      "            ctx=Store(),\n",
      "        ),\n",
      "    ],\n",
      "    value=Tuple(\n",
      "        lineno=1,\n",
      "        col_offset=4,\n",
      "        elts=[\n",
      "            Num(lineno=1, col_offset=4, n=66),\n",
      "            Str(lineno=1, col_offset=7, s='fancy'),\n",
      "        ],\n",
      "        ctx=Load(),\n",
      "    ),\n",
      ")\n"
     ]
    }
   ],
   "source": [
    "astpretty.pprint(ast.parse(\"x,y=66,'fancy'\").body[0])"
   ]
  },
  {
   "cell_type": "markdown",
   "metadata": {},
   "source": [
    "#### 函数调用Call\n",
    "- func 调用函数，类型为Name，通过Name.id拿到函数名\n",
    "- args 参数"
   ]
  },
  {
   "cell_type": "code",
   "execution_count": 20,
   "metadata": {},
   "outputs": [
    {
     "name": "stdout",
     "output_type": "stream",
     "text": [
      "Expr(\n",
      "    lineno=1,\n",
      "    col_offset=0,\n",
      "    value=Call(\n",
      "        lineno=1,\n",
      "        col_offset=0,\n",
      "        func=Name(lineno=1, col_offset=0, id='clear_table', ctx=Load()),\n",
      "        args=[Str(lineno=1, col_offset=12, s='tbl_tn_order_detail_temp')],\n",
      "        keywords=[],\n",
      "        starargs=None,\n",
      "        kwargs=None,\n",
      "    ),\n",
      ")\n"
     ]
    }
   ],
   "source": [
    "astpretty.pprint(ast.parse(\"clear_table('tbl_tn_order_detail_temp')\").body[0])"
   ]
  },
  {
   "cell_type": "code",
   "execution_count": 21,
   "metadata": {},
   "outputs": [
    {
     "name": "stdout",
     "output_type": "stream",
     "text": [
      "Assign(\n",
      "    lineno=1,\n",
      "    col_offset=0,\n",
      "    targets=[Name(lineno=1, col_offset=0, id='r', ctx=Store())],\n",
      "    value=Call(\n",
      "        lineno=1,\n",
      "        col_offset=4,\n",
      "        func=Attribute(\n",
      "            lineno=1,\n",
      "            col_offset=4,\n",
      "            value=Name(lineno=1, col_offset=4, id='rpt_db', ctx=Load()),\n",
      "            attr='query',\n",
      "            ctx=Load(),\n",
      "        ),\n",
      "        args=[Name(lineno=1, col_offset=17, id='sql', ctx=Load())],\n",
      "        keywords=[],\n",
      "        starargs=None,\n",
      "        kwargs=None,\n",
      "    ),\n",
      ")\n"
     ]
    }
   ],
   "source": [
    "astshow(\"r = rpt_db.query(sql)\")"
   ]
  },
  {
   "cell_type": "markdown",
   "metadata": {},
   "source": [
    "#### 函数定义 FunctionDef\n",
    "- name：函数\n",
    "- args：参数\n",
    "- body：函数定义的主体\n",
    "- decorator_list：装饰器信息"
   ]
  },
  {
   "cell_type": "code",
   "execution_count": 30,
   "metadata": {},
   "outputs": [
    {
     "name": "stdout",
     "output_type": "stream",
     "text": [
      "FunctionDef(\n",
      "    lineno=2,\n",
      "    col_offset=0,\n",
      "    name='insert_tn_nifa_cust_ana',\n",
      "    args=arguments(\n",
      "        args=[Name(lineno=3, col_offset=28, id='days', ctx=Param())],\n",
      "        vararg=None,\n",
      "        kwarg=None,\n",
      "        defaults=[],\n",
      "    ),\n",
      "    body=[\n",
      "        Assign(\n",
      "            lineno=4,\n",
      "            col_offset=4,\n",
      "            targets=[Name(lineno=4, col_offset=4, id='statdate', ctx=Store())],\n",
      "            value=Call(\n",
      "                lineno=4,\n",
      "                col_offset=15,\n",
      "                func=Attribute(\n",
      "                    lineno=4,\n",
      "                    col_offset=15,\n",
      "                    value=Name(lineno=4, col_offset=15, id='days', ctx=Load()),\n",
      "                    attr='strftime',\n",
      "                    ctx=Load(),\n",
      "                ),\n",
      "                args=[Str(lineno=4, col_offset=29, s='%Y%m%d')],\n",
      "                keywords=[],\n",
      "                starargs=None,\n",
      "                kwargs=None,\n",
      "            ),\n",
      "        ),\n",
      "    ],\n",
      "    decorator_list=[Name(lineno=2, col_offset=1, id='myself', ctx=Load())],\n",
      ")\n"
     ]
    }
   ],
   "source": [
    "txt = \"\"\"\n",
    "@myself\n",
    "def insert_tn_nifa_cust_ana(days):\n",
    "    statdate = days.strftime('%Y%m%d')\n",
    "\"\"\"\n",
    "astshow(txt)"
   ]
  },
  {
   "cell_type": "markdown",
   "metadata": {},
   "source": [
    "#### Print"
   ]
  },
  {
   "cell_type": "code",
   "execution_count": 31,
   "metadata": {},
   "outputs": [
    {
     "name": "stdout",
     "output_type": "stream",
     "text": [
      "Print(\n",
      "    lineno=1,\n",
      "    col_offset=0,\n",
      "    dest=None,\n",
      "    values=[Num(lineno=1, col_offset=6, n=666)],\n",
      "    nl=True,\n",
      ")\n"
     ]
    }
   ],
   "source": [
    "astshow(\"print 666\")"
   ]
  },
  {
   "cell_type": "code",
   "execution_count": 33,
   "metadata": {},
   "outputs": [
    {
     "name": "stdout",
     "output_type": "stream",
     "text": [
      "Expr(\n",
      "    lineno=1,\n",
      "    col_offset=0,\n",
      "    value=Call(\n",
      "        lineno=1,\n",
      "        col_offset=0,\n",
      "        func=Attribute(\n",
      "            lineno=1,\n",
      "            col_offset=0,\n",
      "            value=Attribute(\n",
      "                lineno=1,\n",
      "                col_offset=0,\n",
      "                value=Name(lineno=1, col_offset=0, id='xxx', ctx=Load()),\n",
      "                attr='rpt_db',\n",
      "                ctx=Load(),\n",
      "            ),\n",
      "            attr='close',\n",
      "            ctx=Load(),\n",
      "        ),\n",
      "        args=[],\n",
      "        keywords=[],\n",
      "        starargs=None,\n",
      "        kwargs=None,\n",
      "    ),\n",
      ")\n"
     ]
    }
   ],
   "source": [
    "astshow(\"xxx.rpt_db.close()\")"
   ]
  },
  {
   "cell_type": "code",
   "execution_count": 34,
   "metadata": {},
   "outputs": [
    {
     "name": "stdout",
     "output_type": "stream",
     "text": [
      "If(\n",
      "    lineno=2,\n",
      "    col_offset=0,\n",
      "    test=Compare(\n",
      "        lineno=2,\n",
      "        col_offset=3,\n",
      "        left=Name(lineno=2, col_offset=3, id='__name__', ctx=Load()),\n",
      "        ops=[Eq()],\n",
      "        comparators=[Str(lineno=2, col_offset=15, s='__main__')],\n",
      "    ),\n",
      "    body=[\n",
      "        Print(\n",
      "            lineno=3,\n",
      "            col_offset=4,\n",
      "            dest=None,\n",
      "            values=[Num(lineno=3, col_offset=10, n=666)],\n",
      "            nl=True,\n",
      "        ),\n",
      "    ],\n",
      "    orelse=[],\n",
      ")\n"
     ]
    }
   ],
   "source": [
    "txt = \"\"\"\n",
    "if __name__ == \"__main__\":\n",
    "    print 666\n",
    "\"\"\"\n",
    "astshow(txt)"
   ]
  },
  {
   "cell_type": "markdown",
   "metadata": {},
   "source": [
    "#### 字典赋值\n"
   ]
  },
  {
   "cell_type": "code",
   "execution_count": 37,
   "metadata": {},
   "outputs": [
    {
     "name": "stdout",
     "output_type": "stream",
     "text": [
      "Module(\n",
      "    body=[\n",
      "        Assign(\n",
      "            lineno=2,\n",
      "            col_offset=0,\n",
      "            targets=[Name(lineno=2, col_offset=0, id='data', ctx=Store())],\n",
      "            value=Dict(lineno=2, col_offset=7, keys=[], values=[]),\n",
      "        ),\n",
      "        Assign(\n",
      "            lineno=3,\n",
      "            col_offset=0,\n",
      "            targets=[\n",
      "                Subscript(\n",
      "                    lineno=3,\n",
      "                    col_offset=0,\n",
      "                    value=Name(lineno=3, col_offset=0, id='data', ctx=Load()),\n",
      "                    slice=Index(\n",
      "                        value=Str(lineno=3, col_offset=5, s='last_item'),\n",
      "                    ),\n",
      "                    ctx=Store(),\n",
      "                ),\n",
      "            ],\n",
      "            value=Name(lineno=3, col_offset=20, id='shouldupdatedb', ctx=Load()),\n",
      "        ),\n",
      "    ],\n",
      ")\n"
     ]
    }
   ],
   "source": [
    "txt = \"\"\"\n",
    "data = {}\n",
    "data['last_item'] = shouldupdatedb\n",
    "\"\"\"\n",
    "astshowall(txt)"
   ]
  },
  {
   "cell_type": "markdown",
   "metadata": {},
   "source": [
    "#### 占位符赋值BinOp"
   ]
  },
  {
   "cell_type": "code",
   "execution_count": 39,
   "metadata": {},
   "outputs": [
    {
     "name": "stdout",
     "output_type": "stream",
     "text": [
      "Module(\n",
      "    body=[\n",
      "        Assign(\n",
      "            lineno=1,\n",
      "            col_offset=0,\n",
      "            targets=[Name(lineno=1, col_offset=0, id='x', ctx=Store())],\n",
      "            value=BinOp(\n",
      "                lineno=1,\n",
      "                col_offset=4,\n",
      "                left=Str(lineno=1, col_offset=4, s='today %s yes'),\n",
      "                op=Mod(),\n",
      "                right=Name(lineno=1, col_offset=21, id='day', ctx=Load()),\n",
      "            ),\n",
      "        ),\n",
      "    ],\n",
      ")\n"
     ]
    }
   ],
   "source": [
    "astshowall(\"x = 'today %s yes' % day\")"
   ]
  },
  {
   "cell_type": "code",
   "execution_count": 40,
   "metadata": {},
   "outputs": [
    {
     "name": "stdout",
     "output_type": "stream",
     "text": [
      "Module(\n",
      "    body=[\n",
      "        Assign(\n",
      "            lineno=2,\n",
      "            col_offset=0,\n",
      "            targets=[Name(lineno=2, col_offset=0, id='sql', ctx=Store())],\n",
      "            value=BinOp(\n",
      "                lineno=2,\n",
      "                col_offset=6,\n",
      "                left=Str(lineno=2, col_offset=6, s=\"update tbs_nifa_bond_project_his_temp a,tb_finance_xiaodai_overdue b,tio_tn_dw_borrow_extend_his c                set a.isDue = 1              where a.oldProjectCode = c.borrow_id                AND substr(c.borrow_contract,1,INSTR(c.borrow_contract,'_SPV0')-1) = b.contractno                and c.borrow_contract like '%%_SPV0%%'                and b.loancode in('P001','P008','P011','P013','P016','P017','P018','car_owner_credit')                 and b.NORETURNAMT>0                and b.stadate = '%s'\"),\n",
      "                op=Mod(),\n",
      "                right=Name(lineno=2, col_offset=516, id='statdate', ctx=Load()),\n",
      "            ),\n",
      "        ),\n",
      "    ],\n",
      ")\n"
     ]
    }
   ],
   "source": [
    "txt = \"\"\"\n",
    "sql = \"update tbs_nifa_bond_project_his_temp a,tb_finance_xiaodai_overdue b,tio_tn_dw_borrow_extend_his c\\\n",
    "                set a.isDue = 1\\\n",
    "              where a.oldProjectCode = c.borrow_id\\\n",
    "                AND substr(c.borrow_contract,1,INSTR(c.borrow_contract,'_SPV0')-1) = b.contractno\\\n",
    "                and c.borrow_contract like \\'%%_SPV0%%\\'\\\n",
    "                and b.loancode in('P001','P008','P011','P013','P016','P017','P018','car_owner_credit') \\\n",
    "                and b.NORETURNAMT>0\\\n",
    "                and b.stadate = '%s'\" % (statdate)\n",
    "\"\"\"\n",
    "astshowall(txt)"
   ]
  },
  {
   "cell_type": "code",
   "execution_count": null,
   "metadata": {},
   "outputs": [],
   "source": []
  }
 ],
 "metadata": {
  "kernelspec": {
   "display_name": "Python 2",
   "language": "python",
   "name": "python2"
  },
  "language_info": {
   "codemirror_mode": {
    "name": "ipython",
    "version": 2
   },
   "file_extension": ".py",
   "mimetype": "text/x-python",
   "name": "python",
   "nbconvert_exporter": "python",
   "pygments_lexer": "ipython2",
   "version": "2.7.14"
  }
 },
 "nbformat": 4,
 "nbformat_minor": 2
}
