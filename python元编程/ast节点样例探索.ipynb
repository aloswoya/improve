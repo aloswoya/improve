{
 "cells": [
  {
   "cell_type": "code",
   "execution_count": 22,
   "metadata": {},
   "outputs": [],
   "source": [
    "import ast\n",
    "import astpretty\n",
    "def astshow(some):\n",
    "    astpretty.pprint(ast.parse(some).body[0])"
   ]
  },
  {
   "cell_type": "markdown",
   "metadata": {},
   "source": [
    "#### 表达式 Expr\n",
    "只有value一个属性"
   ]
  },
  {
   "cell_type": "code",
   "execution_count": 3,
   "metadata": {},
   "outputs": [
    {
     "name": "stdout",
     "output_type": "stream",
     "text": [
      "Module(\n",
      "    body=[\n",
      "        Expr(\n",
      "            lineno=1,\n",
      "            col_offset=0,\n",
      "            value=Name(lineno=1, col_offset=0, id='x', ctx=Load()),\n",
      "        ),\n",
      "    ],\n",
      ")\n"
     ]
    }
   ],
   "source": [
    "astpretty.pprint(ast.parse(\"x\"))"
   ]
  },
  {
   "cell_type": "markdown",
   "metadata": {},
   "source": [
    "#### 赋值语句 Assign\n",
    "两个属性：\n",
    "- targets。被赋值的对象\n",
    "    - 是一个列表，可以多重赋值。比如a=b=c=6\n",
    "- value。赋值的对象，在AST中有多种节点\n",
    "    - Num/Str/List/Dict等"
   ]
  },
  {
   "cell_type": "code",
   "execution_count": 13,
   "metadata": {},
   "outputs": [
    {
     "name": "stdout",
     "output_type": "stream",
     "text": [
      "Assign(\n",
      "    lineno=1,\n",
      "    col_offset=0,\n",
      "    targets=[Name(lineno=1, col_offset=0, id='x', ctx=Store())],\n",
      "    value=Num(lineno=1, col_offset=2, n=666),\n",
      ")\n"
     ]
    }
   ],
   "source": [
    "astpretty.pprint(ast.parse(\"x=666\").body[0])"
   ]
  },
  {
   "cell_type": "code",
   "execution_count": 19,
   "metadata": {},
   "outputs": [
    {
     "name": "stdout",
     "output_type": "stream",
     "text": [
      "Module(\n",
      "    body=[\n",
      "        Assign(\n",
      "            lineno=1,\n",
      "            col_offset=0,\n",
      "            targets=[\n",
      "                Name(lineno=1, col_offset=0, id='x', ctx=Store()),\n",
      "                Name(lineno=1, col_offset=2, id='y', ctx=Store()),\n",
      "                Name(lineno=1, col_offset=4, id='z', ctx=Store()),\n",
      "            ],\n",
      "            value=Num(lineno=1, col_offset=6, n=6),\n",
      "        ),\n",
      "    ],\n",
      ")\n"
     ]
    }
   ],
   "source": [
    "astpretty.pprint(ast.parse(\"x=y=z=6\"))"
   ]
  },
  {
   "cell_type": "code",
   "execution_count": 16,
   "metadata": {},
   "outputs": [
    {
     "name": "stdout",
     "output_type": "stream",
     "text": [
      "Assign(\n",
      "    lineno=1,\n",
      "    col_offset=0,\n",
      "    targets=[\n",
      "        Tuple(\n",
      "            lineno=1,\n",
      "            col_offset=0,\n",
      "            elts=[\n",
      "                Name(lineno=1, col_offset=0, id='x', ctx=Store()),\n",
      "                Name(lineno=1, col_offset=2, id='y', ctx=Store()),\n",
      "            ],\n",
      "            ctx=Store(),\n",
      "        ),\n",
      "    ],\n",
      "    value=Tuple(\n",
      "        lineno=1,\n",
      "        col_offset=4,\n",
      "        elts=[\n",
      "            Num(lineno=1, col_offset=4, n=66),\n",
      "            Str(lineno=1, col_offset=7, s='fancy'),\n",
      "        ],\n",
      "        ctx=Load(),\n",
      "    ),\n",
      ")\n"
     ]
    }
   ],
   "source": [
    "astpretty.pprint(ast.parse(\"x,y=66,'fancy'\").body[0])"
   ]
  },
  {
   "cell_type": "markdown",
   "metadata": {},
   "source": [
    "#### 函数调用Call\n",
    "- func 调用函数，类型为Name，通过Name.id拿到函数名\n",
    "- args 参数"
   ]
  },
  {
   "cell_type": "code",
   "execution_count": 20,
   "metadata": {},
   "outputs": [
    {
     "name": "stdout",
     "output_type": "stream",
     "text": [
      "Expr(\n",
      "    lineno=1,\n",
      "    col_offset=0,\n",
      "    value=Call(\n",
      "        lineno=1,\n",
      "        col_offset=0,\n",
      "        func=Name(lineno=1, col_offset=0, id='clear_table', ctx=Load()),\n",
      "        args=[Str(lineno=1, col_offset=12, s='tbl_tn_order_detail_temp')],\n",
      "        keywords=[],\n",
      "        starargs=None,\n",
      "        kwargs=None,\n",
      "    ),\n",
      ")\n"
     ]
    }
   ],
   "source": [
    "astpretty.pprint(ast.parse(\"clear_table('tbl_tn_order_detail_temp')\").body[0])"
   ]
  },
  {
   "cell_type": "code",
   "execution_count": 21,
   "metadata": {},
   "outputs": [
    {
     "name": "stdout",
     "output_type": "stream",
     "text": [
      "Assign(\n",
      "    lineno=1,\n",
      "    col_offset=0,\n",
      "    targets=[Name(lineno=1, col_offset=0, id='r', ctx=Store())],\n",
      "    value=Call(\n",
      "        lineno=1,\n",
      "        col_offset=4,\n",
      "        func=Attribute(\n",
      "            lineno=1,\n",
      "            col_offset=4,\n",
      "            value=Name(lineno=1, col_offset=4, id='rpt_db', ctx=Load()),\n",
      "            attr='query',\n",
      "            ctx=Load(),\n",
      "        ),\n",
      "        args=[Name(lineno=1, col_offset=17, id='sql', ctx=Load())],\n",
      "        keywords=[],\n",
      "        starargs=None,\n",
      "        kwargs=None,\n",
      "    ),\n",
      ")\n"
     ]
    }
   ],
   "source": [
    "astshow(\"r = rpt_db.query(sql)\")"
   ]
  },
  {
   "cell_type": "markdown",
   "metadata": {},
   "source": [
    "#### 函数定义 FunctionDef\n",
    "- name：函数\n",
    "- args：参数\n",
    "- body：函数定义的主体\n",
    "- decorator_list：装饰器信息"
   ]
  },
  {
   "cell_type": "code",
   "execution_count": 30,
   "metadata": {},
   "outputs": [
    {
     "name": "stdout",
     "output_type": "stream",
     "text": [
      "FunctionDef(\n",
      "    lineno=2,\n",
      "    col_offset=0,\n",
      "    name='insert_tn_nifa_cust_ana',\n",
      "    args=arguments(\n",
      "        args=[Name(lineno=3, col_offset=28, id='days', ctx=Param())],\n",
      "        vararg=None,\n",
      "        kwarg=None,\n",
      "        defaults=[],\n",
      "    ),\n",
      "    body=[\n",
      "        Assign(\n",
      "            lineno=4,\n",
      "            col_offset=4,\n",
      "            targets=[Name(lineno=4, col_offset=4, id='statdate', ctx=Store())],\n",
      "            value=Call(\n",
      "                lineno=4,\n",
      "                col_offset=15,\n",
      "                func=Attribute(\n",
      "                    lineno=4,\n",
      "                    col_offset=15,\n",
      "                    value=Name(lineno=4, col_offset=15, id='days', ctx=Load()),\n",
      "                    attr='strftime',\n",
      "                    ctx=Load(),\n",
      "                ),\n",
      "                args=[Str(lineno=4, col_offset=29, s='%Y%m%d')],\n",
      "                keywords=[],\n",
      "                starargs=None,\n",
      "                kwargs=None,\n",
      "            ),\n",
      "        ),\n",
      "    ],\n",
      "    decorator_list=[Name(lineno=2, col_offset=1, id='myself', ctx=Load())],\n",
      ")\n"
     ]
    }
   ],
   "source": [
    "txt = \"\"\"\n",
    "@myself\n",
    "def insert_tn_nifa_cust_ana(days):\n",
    "    statdate = days.strftime('%Y%m%d')\n",
    "\"\"\"\n",
    "astshow(txt)"
   ]
  },
  {
   "cell_type": "code",
   "execution_count": null,
   "metadata": {},
   "outputs": [],
   "source": []
  },
  {
   "cell_type": "code",
   "execution_count": null,
   "metadata": {},
   "outputs": [],
   "source": []
  }
 ],
 "metadata": {
  "kernelspec": {
   "display_name": "Python 2",
   "language": "python",
   "name": "python2"
  },
  "language_info": {
   "codemirror_mode": {
    "name": "ipython",
    "version": 2
   },
   "file_extension": ".py",
   "mimetype": "text/x-python",
   "name": "python",
   "nbconvert_exporter": "python",
   "pygments_lexer": "ipython2",
   "version": "2.7.14"
  }
 },
 "nbformat": 4,
 "nbformat_minor": 2
}
