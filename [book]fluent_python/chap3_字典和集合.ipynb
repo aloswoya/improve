{
 "cells": [
  {
   "cell_type": "markdown",
   "metadata": {},
   "source": [
    "# 字典和集合\n",
    "\n",
    "## 3.1泛映射类型\n",
    "\n",
    "标准库中的所有映射类型都是利用dict来实现的，因此都有个限制： 只有可散列的数据类型才能作为键。\n",
    "\n",
    "**可散列：** 一个对象可散列，那么它的生命周期中散列值是不变，并且需要实现 __hash__()、__eq__()方法，才能与其他键进行比较。\n",
    "    \n",
    "- 原子不可变数据类型：str, bytes, 数值类型\n",
    "- 不可变集合：frozenset\n",
    "- 元组：元组里的所有元素必须均为可散列类型"
   ]
  },
  {
   "cell_type": "code",
   "execution_count": 1,
   "metadata": {},
   "outputs": [
    {
     "ename": "TypeError",
     "evalue": "unhashable type: 'list'",
     "output_type": "error",
     "traceback": [
      "\u001b[1;31m\u001b[0m",
      "\u001b[1;31mTypeError\u001b[0mTraceback (most recent call last)",
      "\u001b[1;32m<ipython-input-1-d73924a9a13f>\u001b[0m in \u001b[0;36m<module>\u001b[1;34m()\u001b[0m\n\u001b[1;32m----> 1\u001b[1;33m \u001b[0mhash\u001b[0m\u001b[1;33m(\u001b[0m\u001b[1;33m(\u001b[0m\u001b[1;36m1\u001b[0m\u001b[1;33m,\u001b[0m \u001b[1;36m2\u001b[0m\u001b[1;33m,\u001b[0m \u001b[1;33m[\u001b[0m\u001b[1;36m3\u001b[0m\u001b[1;33m,\u001b[0m  \u001b[1;36m4\u001b[0m\u001b[1;33m]\u001b[0m\u001b[1;33m)\u001b[0m\u001b[1;33m)\u001b[0m\u001b[1;33m\u001b[0m\u001b[0m\n\u001b[0m",
      "\u001b[1;31mTypeError\u001b[0m: unhashable type: 'list'"
     ]
    }
   ],
   "source": [
    "hash((1, 2, [3,  4]))"
   ]
  },
  {
   "cell_type": "code",
   "execution_count": 2,
   "metadata": {},
   "outputs": [
    {
     "data": {
      "text/plain": [
       "-19024239"
      ]
     },
     "execution_count": 2,
     "metadata": {},
     "output_type": "execute_result"
    }
   ],
   "source": [
    "hash((1, 2, frozenset([3, 4])))"
   ]
  },
  {
   "cell_type": "code",
   "execution_count": 3,
   "metadata": {},
   "outputs": [
    {
     "data": {
      "text/plain": [
       "frozenset({3, 4})"
      ]
     },
     "execution_count": 3,
     "metadata": {},
     "output_type": "execute_result"
    }
   ],
   "source": [
    "frozenset([3, 4])"
   ]
  },
  {
   "cell_type": "markdown",
   "metadata": {},
   "source": [
    "- 一般用户自定义的类型都是可散列的，散列值为id()函数的返回值，所以一般是唯一的\n",
    "- 如果有实现了__hash__，那么需要用到该对象的内部状态，且必须都是不可变"
   ]
  },
  {
   "cell_type": "markdown",
   "metadata": {},
   "source": [
    "## 3.2字典推导\n",
    "可以从任何以键值对作为元素的可迭代对象中构建出字典"
   ]
  },
  {
   "cell_type": "code",
   "execution_count": 4,
   "metadata": {},
   "outputs": [
    {
     "data": {
      "text/plain": [
       "{'China': 86, 'India': 91, 'US': 1}"
      ]
     },
     "execution_count": 4,
     "metadata": {},
     "output_type": "execute_result"
    }
   ],
   "source": [
    "CODES = [(86, \"China\"), (1, \"US\"), (91, \"India\")]\n",
    "\n",
    "{country: code for code, country in CODES}"
   ]
  },
  {
   "cell_type": "code",
   "execution_count": 5,
   "metadata": {},
   "outputs": [
    {
     "data": {
      "text/plain": [
       "{86: 'China', 91: 'India'}"
      ]
     },
     "execution_count": 5,
     "metadata": {},
     "output_type": "execute_result"
    }
   ],
   "source": [
    "{code: country for code, country in CODES if code > 50}"
   ]
  },
  {
   "cell_type": "markdown",
   "metadata": {},
   "source": [
    "上述推导式中，country:code 告诉python解释器这是dict中的键值对形式\n",
    "## 3.3常见的映射方法\n",
    "\n",
    "映射类型有：dict, collection.defaultdict, collections.OrderDice"
   ]
  },
  {
   "cell_type": "code",
   "execution_count": 6,
   "metadata": {},
   "outputs": [
    {
     "data": {
      "text/plain": [
       "{0: [0, 1, 2, 3, 4],\n",
       " 1: [0, 1, 2, 3, 4],\n",
       " 2: [0, 1, 2, 3, 4],\n",
       " 3: [0, 1, 2, 3, 4],\n",
       " 4: [0, 1, 2, 3, 4]}"
      ]
     },
     "execution_count": 6,
     "metadata": {},
     "output_type": "execute_result"
    }
   ],
   "source": [
    "d = {}\n",
    "d.fromkeys(range(5), range(5))"
   ]
  },
  {
   "cell_type": "code",
   "execution_count": 7,
   "metadata": {},
   "outputs": [
    {
     "data": {
      "text/plain": [
       "{0: 1, 1: 1, 2: 1, 3: 1, 4: 1}"
      ]
     },
     "execution_count": 7,
     "metadata": {},
     "output_type": "execute_result"
    }
   ],
   "source": [
    "i = 0\n",
    "def get_i():\n",
    "    global i\n",
    "    i += 1\n",
    "    return i\n",
    "d.fromkeys(range(5), get_i())"
   ]
  },
  {
   "cell_type": "code",
   "execution_count": 8,
   "metadata": {},
   "outputs": [
    {
     "data": {
      "text/plain": [
       "{0: [0, 1, 2, 3, 4],\n",
       " 1: [0, 1, 2, 3, 4],\n",
       " 2: [0, 1, 2, 3, 4],\n",
       " 3: [0, 1, 2, 3, 4],\n",
       " 4: [0, 1, 2, 3, 4]}"
      ]
     },
     "execution_count": 8,
     "metadata": {},
     "output_type": "execute_result"
    }
   ],
   "source": [
    "d = dict.fromkeys(range(5), range(5))\n",
    "d"
   ]
  },
  {
   "cell_type": "markdown",
   "metadata": {},
   "source": [
    "#### 部分函数用法说明\n",
    "函数原型：d.fromkeys(it,[initial])\n",
    "\n",
    "将迭代器 it 里的元素设置为映射里的键，如果有initial 参数，就把它作为这些键对应的值（默认是None）【不能动态绑定】"
   ]
  },
  {
   "cell_type": "markdown",
   "metadata": {},
   "source": [
    "函数原型：d.__missing__(k) \n",
    "\n",
    "当 __getitem__ 找不到对应键的时候，这个方法会被调用，这个过程是python解释器自动执行的"
   ]
  },
  {
   "cell_type": "markdown",
   "metadata": {},
   "source": [
    "函数原型： d.update(m, [**kargs])\n",
    "\n",
    "m可以是映射类型，可以使键值对构成的序列。python解释器会先检查m是否有keys()方法，没有则按照(key, value)的方式处理m"
   ]
  },
  {
   "cell_type": "markdown",
   "metadata": {
    "collapsed": true
   },
   "source": [
    "#### 用setdefault来处理找不到的键\n",
    "d.setdefault(key, []).append(value)\n",
    "\n",
    "这个方法只需要查找一次键，而传统方法需要2-3次。\n",
    "\n",
    "## 3.4映射的弹性键查询\n",
    "找不到键时得到一个默认值的两种方法：\n",
    "1. 通过defaultdict\n",
    "|\n",
    "2. 自己定义一个dict, 实现__missing__方法\n"
   ]
  },
  {
   "cell_type": "code",
   "execution_count": null,
   "metadata": {
    "collapsed": true
   },
   "outputs": [],
   "source": []
  }
 ],
 "metadata": {
  "kernelspec": {
   "display_name": "Python 3",
   "language": "python",
   "name": "python3"
  },
  "language_info": {
   "codemirror_mode": {
    "name": "ipython",
    "version": 3
   },
   "file_extension": ".py",
   "mimetype": "text/x-python",
   "name": "python",
   "nbconvert_exporter": "python",
   "pygments_lexer": "ipython3",
   "version": "3.6.3"
  }
 },
 "nbformat": 4,
 "nbformat_minor": 2
}
